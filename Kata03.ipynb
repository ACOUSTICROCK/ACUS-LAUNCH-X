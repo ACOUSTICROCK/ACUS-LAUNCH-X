{
 "cells": [
  {
   "cell_type": "markdown",
   "metadata": {},
   "source": [
    "Tip de práctica 1: Intenta ejecutarlo en un notebook"
   ]
  },
  {
   "cell_type": "code",
   "execution_count": 1,
   "metadata": {},
   "outputs": [],
   "source": [
    "a = 97\n",
    "b = 55\n",
    "# test expression / expresión de prueba\n",
    "if a < b:\n",
    "    # statement to be run / instrucción a ejecutar\n",
    "    print(b)"
   ]
  },
  {
   "cell_type": "markdown",
   "metadata": {},
   "source": [
    "Tip de práctica 2:"
   ]
  },
  {
   "cell_type": "code",
   "execution_count": 4,
   "metadata": {},
   "outputs": [
    {
     "name": "stdout",
     "output_type": "stream",
     "text": [
      "El resultado es 93\n"
     ]
    }
   ],
   "source": [
    "# Aplica el tip de práctica 1.\n",
    "a = 93\n",
    "b = 27\n",
    "if a >= b:\n",
    "    print(\"El resultado es\" , a)"
   ]
  },
  {
   "cell_type": "markdown",
   "metadata": {},
   "source": [
    "Ejercicio 1 - Declaraciones If, Else, Elif"
   ]
  },
  {
   "cell_type": "code",
   "execution_count": 13,
   "metadata": {},
   "outputs": [
    {
     "name": "stdout",
     "output_type": "stream",
     "text": [
      "Guarden la calma, de todos modos no hay nada que hacer 😫\n"
     ]
    }
   ],
   "source": [
    "#Un asteoride se acerca a la Tierra demasiado rápido\n",
    "Velocidad = 49\n",
    "if Velocidad > 25:\n",
    "    print(\"Guarden la calma, de todos modos no hay nada que hacer 😫\")\n",
    "else:\n",
    "    print(\"Guarden la calma, no hay nada de qué preocuparse 😉\")"
   ]
  },
  {
   "cell_type": "code",
   "execution_count": 14,
   "metadata": {},
   "outputs": [
    {
     "name": "stdout",
     "output_type": "stream",
     "text": [
      "No comas galletas, egoísta \n"
     ]
    }
   ],
   "source": [
    "#Comer o no las galletas en el tarro\n",
    "Galletas = 2\n",
    "if Galletas > 4:\n",
    "    print(\"Comer 1 galleta\")\n",
    "else:\n",
    "    print(\"No comas galletas, egoísta \")"
   ]
  },
  {
   "cell_type": "markdown",
   "metadata": {},
   "source": [
    "Ejercicio 2"
   ]
  },
  {
   "cell_type": "code",
   "execution_count": 16,
   "metadata": {},
   "outputs": [
    {
     "name": "stdout",
     "output_type": "stream",
     "text": [
      "No era nada, olvidenlo\n"
     ]
    }
   ],
   "source": [
    "Velocidad = 19\n",
    "if Velocidad > 20:\n",
    "    print(\"¿Qué es eso brillante en el cielo? 💥\")\n",
    "elif Velocidad == 20:\n",
    "    print(\"¿Qué es eso brillante en el cielo? 💥\")\n",
    "else:\n",
    "    print(\"No era nada, olvidenlo\")"
   ]
  },
  {
   "cell_type": "code",
   "execution_count": 8,
   "metadata": {},
   "outputs": [
    {
     "name": "stdout",
     "output_type": "stream",
     "text": [
      "Sigue haciendo las Katas, un meteorito no detendrá tu aprendizaje hoy\n"
     ]
    }
   ],
   "source": [
    "#¿El metorito choca con la tierra?\n",
    "TamañoEnMetros = 50\n",
    "if TamañoEnMetros > 75:\n",
    "    print(\"Así es, mi estimado\")\n",
    "elif TamañoEnMetros == 75:\n",
    "    print(\"Chance y nomás poquito\")\n",
    "else:\n",
    "    print(\"Sigue haciendo las Katas, un meteorito no detendrá tu aprendizaje hoy\")"
   ]
  },
  {
   "cell_type": "markdown",
   "metadata": {},
   "source": [
    "Ejercicio 3 - Uso de Operadores and y or"
   ]
  },
  {
   "cell_type": "code",
   "execution_count": 18,
   "metadata": {},
   "outputs": [
    {
     "name": "stdout",
     "output_type": "stream",
     "text": [
      "¿Qué es eso brillante en el cielo? 💥\n"
     ]
    }
   ],
   "source": [
    "Velocidad_Del_Asteroide=25\n",
    "Tamaño_Del_Ateroide=40\n",
    "if Velocidad_Del_Asteroide > 25 and Tamaño_Del_Ateroide > 25:\n",
    "    print(\"Alerta máxima! Un enorme asteroide viene de camino a la Tierra!\")\n",
    "elif Velocidad_Del_Asteroide >= 20:\n",
    "    print(\"¿Qué es eso brillante en el cielo? 💥\")\n",
    "elif Tamaño_Del_Ateroide < 25 :\n",
    "    print(\"No hay nada que ver aquí -Dijo un ciego\")\n",
    "else:\n",
    "    print(\"No hay nada que ver aquí -Dijo un ciego\")"
   ]
  },
  {
   "cell_type": "markdown",
   "metadata": {},
   "source": [
    "Sé que hice un poco más de lo debido, pero estaba practicando jaja Es un buen truco para entretener a mi hermano pequeño :)"
   ]
  }
 ],
 "metadata": {
  "interpreter": {
   "hash": "8f041cf80603e7de127377af61a87b65cfcdf4f1e142263b21bba83a8b1cb8a8"
  },
  "kernelspec": {
   "display_name": "Python 3.10.2 64-bit",
   "language": "python",
   "name": "python3"
  },
  "language_info": {
   "codemirror_mode": {
    "name": "ipython",
    "version": 3
   },
   "file_extension": ".py",
   "mimetype": "text/x-python",
   "name": "python",
   "nbconvert_exporter": "python",
   "pygments_lexer": "ipython3",
   "version": "3.10.2"
  },
  "orig_nbformat": 4
 },
 "nbformat": 4,
 "nbformat_minor": 2
}
